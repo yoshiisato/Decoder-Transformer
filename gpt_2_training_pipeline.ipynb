{
  "nbformat": 4,
  "nbformat_minor": 0,
  "metadata": {
    "colab": {
      "provenance": [],
      "machine_shape": "hm",
      "gpuType": "A100"
    },
    "kernelspec": {
      "name": "python3",
      "display_name": "Python 3"
    },
    "language_info": {
      "name": "python"
    },
    "widgets": {
      "application/vnd.jupyter.widget-state+json": {
        "0b5fe0b97745418e9c47117e3cb5fa32": {
          "model_module": "@jupyter-widgets/controls",
          "model_name": "HBoxModel",
          "model_module_version": "1.5.0",
          "state": {
            "_dom_classes": [],
            "_model_module": "@jupyter-widgets/controls",
            "_model_module_version": "1.5.0",
            "_model_name": "HBoxModel",
            "_view_count": null,
            "_view_module": "@jupyter-widgets/controls",
            "_view_module_version": "1.5.0",
            "_view_name": "HBoxView",
            "box_style": "",
            "children": [
              "IPY_MODEL_64b38d7dab1544cca5b29569f42fdc25",
              "IPY_MODEL_10add0e3644b434ab010e156ccbf217e",
              "IPY_MODEL_5794d5d0c9ff4f1a9ba3340774bcb0f2"
            ],
            "layout": "IPY_MODEL_87e64aa0bcfd4fb38b643e7dcd16b204"
          }
        },
        "64b38d7dab1544cca5b29569f42fdc25": {
          "model_module": "@jupyter-widgets/controls",
          "model_name": "HTMLModel",
          "model_module_version": "1.5.0",
          "state": {
            "_dom_classes": [],
            "_model_module": "@jupyter-widgets/controls",
            "_model_module_version": "1.5.0",
            "_model_name": "HTMLModel",
            "_view_count": null,
            "_view_module": "@jupyter-widgets/controls",
            "_view_module_version": "1.5.0",
            "_view_name": "HTMLView",
            "description": "",
            "description_tooltip": null,
            "layout": "IPY_MODEL_f8dbfed835384f95b88a21fdfe9df78e",
            "placeholder": "​",
            "style": "IPY_MODEL_f2ce80a6055f46aaac6365d272ff16e4",
            "value": "Downloading builder script: 100%"
          }
        },
        "10add0e3644b434ab010e156ccbf217e": {
          "model_module": "@jupyter-widgets/controls",
          "model_name": "FloatProgressModel",
          "model_module_version": "1.5.0",
          "state": {
            "_dom_classes": [],
            "_model_module": "@jupyter-widgets/controls",
            "_model_module_version": "1.5.0",
            "_model_name": "FloatProgressModel",
            "_view_count": null,
            "_view_module": "@jupyter-widgets/controls",
            "_view_module_version": "1.5.0",
            "_view_name": "ProgressView",
            "bar_style": "success",
            "description": "",
            "description_tooltip": null,
            "layout": "IPY_MODEL_8fd454744e214928840c432a99cbdb6c",
            "max": 2726,
            "min": 0,
            "orientation": "horizontal",
            "style": "IPY_MODEL_0fc8943cc82644d6bbd37442e713d703",
            "value": 2726
          }
        },
        "5794d5d0c9ff4f1a9ba3340774bcb0f2": {
          "model_module": "@jupyter-widgets/controls",
          "model_name": "HTMLModel",
          "model_module_version": "1.5.0",
          "state": {
            "_dom_classes": [],
            "_model_module": "@jupyter-widgets/controls",
            "_model_module_version": "1.5.0",
            "_model_name": "HTMLModel",
            "_view_count": null,
            "_view_module": "@jupyter-widgets/controls",
            "_view_module_version": "1.5.0",
            "_view_name": "HTMLView",
            "description": "",
            "description_tooltip": null,
            "layout": "IPY_MODEL_4b274b798bba4d3fb1043184fb1d49d4",
            "placeholder": "​",
            "style": "IPY_MODEL_2b5c8f6ddb354335b330a433e11fde33",
            "value": " 2.73k/2.73k [00:00&lt;00:00, 58.7kB/s]"
          }
        },
        "87e64aa0bcfd4fb38b643e7dcd16b204": {
          "model_module": "@jupyter-widgets/base",
          "model_name": "LayoutModel",
          "model_module_version": "1.2.0",
          "state": {
            "_model_module": "@jupyter-widgets/base",
            "_model_module_version": "1.2.0",
            "_model_name": "LayoutModel",
            "_view_count": null,
            "_view_module": "@jupyter-widgets/base",
            "_view_module_version": "1.2.0",
            "_view_name": "LayoutView",
            "align_content": null,
            "align_items": null,
            "align_self": null,
            "border": null,
            "bottom": null,
            "display": null,
            "flex": null,
            "flex_flow": null,
            "grid_area": null,
            "grid_auto_columns": null,
            "grid_auto_flow": null,
            "grid_auto_rows": null,
            "grid_column": null,
            "grid_gap": null,
            "grid_row": null,
            "grid_template_areas": null,
            "grid_template_columns": null,
            "grid_template_rows": null,
            "height": null,
            "justify_content": null,
            "justify_items": null,
            "left": null,
            "margin": null,
            "max_height": null,
            "max_width": null,
            "min_height": null,
            "min_width": null,
            "object_fit": null,
            "object_position": null,
            "order": null,
            "overflow": null,
            "overflow_x": null,
            "overflow_y": null,
            "padding": null,
            "right": null,
            "top": null,
            "visibility": null,
            "width": null
          }
        },
        "f8dbfed835384f95b88a21fdfe9df78e": {
          "model_module": "@jupyter-widgets/base",
          "model_name": "LayoutModel",
          "model_module_version": "1.2.0",
          "state": {
            "_model_module": "@jupyter-widgets/base",
            "_model_module_version": "1.2.0",
            "_model_name": "LayoutModel",
            "_view_count": null,
            "_view_module": "@jupyter-widgets/base",
            "_view_module_version": "1.2.0",
            "_view_name": "LayoutView",
            "align_content": null,
            "align_items": null,
            "align_self": null,
            "border": null,
            "bottom": null,
            "display": null,
            "flex": null,
            "flex_flow": null,
            "grid_area": null,
            "grid_auto_columns": null,
            "grid_auto_flow": null,
            "grid_auto_rows": null,
            "grid_column": null,
            "grid_gap": null,
            "grid_row": null,
            "grid_template_areas": null,
            "grid_template_columns": null,
            "grid_template_rows": null,
            "height": null,
            "justify_content": null,
            "justify_items": null,
            "left": null,
            "margin": null,
            "max_height": null,
            "max_width": null,
            "min_height": null,
            "min_width": null,
            "object_fit": null,
            "object_position": null,
            "order": null,
            "overflow": null,
            "overflow_x": null,
            "overflow_y": null,
            "padding": null,
            "right": null,
            "top": null,
            "visibility": null,
            "width": null
          }
        },
        "f2ce80a6055f46aaac6365d272ff16e4": {
          "model_module": "@jupyter-widgets/controls",
          "model_name": "DescriptionStyleModel",
          "model_module_version": "1.5.0",
          "state": {
            "_model_module": "@jupyter-widgets/controls",
            "_model_module_version": "1.5.0",
            "_model_name": "DescriptionStyleModel",
            "_view_count": null,
            "_view_module": "@jupyter-widgets/base",
            "_view_module_version": "1.2.0",
            "_view_name": "StyleView",
            "description_width": ""
          }
        },
        "8fd454744e214928840c432a99cbdb6c": {
          "model_module": "@jupyter-widgets/base",
          "model_name": "LayoutModel",
          "model_module_version": "1.2.0",
          "state": {
            "_model_module": "@jupyter-widgets/base",
            "_model_module_version": "1.2.0",
            "_model_name": "LayoutModel",
            "_view_count": null,
            "_view_module": "@jupyter-widgets/base",
            "_view_module_version": "1.2.0",
            "_view_name": "LayoutView",
            "align_content": null,
            "align_items": null,
            "align_self": null,
            "border": null,
            "bottom": null,
            "display": null,
            "flex": null,
            "flex_flow": null,
            "grid_area": null,
            "grid_auto_columns": null,
            "grid_auto_flow": null,
            "grid_auto_rows": null,
            "grid_column": null,
            "grid_gap": null,
            "grid_row": null,
            "grid_template_areas": null,
            "grid_template_columns": null,
            "grid_template_rows": null,
            "height": null,
            "justify_content": null,
            "justify_items": null,
            "left": null,
            "margin": null,
            "max_height": null,
            "max_width": null,
            "min_height": null,
            "min_width": null,
            "object_fit": null,
            "object_position": null,
            "order": null,
            "overflow": null,
            "overflow_x": null,
            "overflow_y": null,
            "padding": null,
            "right": null,
            "top": null,
            "visibility": null,
            "width": null
          }
        },
        "0fc8943cc82644d6bbd37442e713d703": {
          "model_module": "@jupyter-widgets/controls",
          "model_name": "ProgressStyleModel",
          "model_module_version": "1.5.0",
          "state": {
            "_model_module": "@jupyter-widgets/controls",
            "_model_module_version": "1.5.0",
            "_model_name": "ProgressStyleModel",
            "_view_count": null,
            "_view_module": "@jupyter-widgets/base",
            "_view_module_version": "1.2.0",
            "_view_name": "StyleView",
            "bar_color": null,
            "description_width": ""
          }
        },
        "4b274b798bba4d3fb1043184fb1d49d4": {
          "model_module": "@jupyter-widgets/base",
          "model_name": "LayoutModel",
          "model_module_version": "1.2.0",
          "state": {
            "_model_module": "@jupyter-widgets/base",
            "_model_module_version": "1.2.0",
            "_model_name": "LayoutModel",
            "_view_count": null,
            "_view_module": "@jupyter-widgets/base",
            "_view_module_version": "1.2.0",
            "_view_name": "LayoutView",
            "align_content": null,
            "align_items": null,
            "align_self": null,
            "border": null,
            "bottom": null,
            "display": null,
            "flex": null,
            "flex_flow": null,
            "grid_area": null,
            "grid_auto_columns": null,
            "grid_auto_flow": null,
            "grid_auto_rows": null,
            "grid_column": null,
            "grid_gap": null,
            "grid_row": null,
            "grid_template_areas": null,
            "grid_template_columns": null,
            "grid_template_rows": null,
            "height": null,
            "justify_content": null,
            "justify_items": null,
            "left": null,
            "margin": null,
            "max_height": null,
            "max_width": null,
            "min_height": null,
            "min_width": null,
            "object_fit": null,
            "object_position": null,
            "order": null,
            "overflow": null,
            "overflow_x": null,
            "overflow_y": null,
            "padding": null,
            "right": null,
            "top": null,
            "visibility": null,
            "width": null
          }
        },
        "2b5c8f6ddb354335b330a433e11fde33": {
          "model_module": "@jupyter-widgets/controls",
          "model_name": "DescriptionStyleModel",
          "model_module_version": "1.5.0",
          "state": {
            "_model_module": "@jupyter-widgets/controls",
            "_model_module_version": "1.5.0",
            "_model_name": "DescriptionStyleModel",
            "_view_count": null,
            "_view_module": "@jupyter-widgets/base",
            "_view_module_version": "1.2.0",
            "_view_name": "StyleView",
            "description_width": ""
          }
        },
        "c77edd49884340a786fd04c8f5176e1c": {
          "model_module": "@jupyter-widgets/controls",
          "model_name": "HBoxModel",
          "model_module_version": "1.5.0",
          "state": {
            "_dom_classes": [],
            "_model_module": "@jupyter-widgets/controls",
            "_model_module_version": "1.5.0",
            "_model_name": "HBoxModel",
            "_view_count": null,
            "_view_module": "@jupyter-widgets/controls",
            "_view_module_version": "1.5.0",
            "_view_name": "HBoxView",
            "box_style": "",
            "children": [
              "IPY_MODEL_944211669a94410ca27cf18f4f12c8e0",
              "IPY_MODEL_2c464fbeb7f94fd4a64c44d6bdfc0e46",
              "IPY_MODEL_f6bd30c974d04e16b220b177801ed1b9"
            ],
            "layout": "IPY_MODEL_2f0a68e0e89d4226a0e38f251742cb5e"
          }
        },
        "944211669a94410ca27cf18f4f12c8e0": {
          "model_module": "@jupyter-widgets/controls",
          "model_name": "HTMLModel",
          "model_module_version": "1.5.0",
          "state": {
            "_dom_classes": [],
            "_model_module": "@jupyter-widgets/controls",
            "_model_module_version": "1.5.0",
            "_model_name": "HTMLModel",
            "_view_count": null,
            "_view_module": "@jupyter-widgets/controls",
            "_view_module_version": "1.5.0",
            "_view_name": "HTMLView",
            "description": "",
            "description_tooltip": null,
            "layout": "IPY_MODEL_6975668fd5d44b57bd8f2792fca1ef10",
            "placeholder": "​",
            "style": "IPY_MODEL_6648f746bef947a2945fa7e8912b88a4",
            "value": "Downloading readme: 100%"
          }
        },
        "2c464fbeb7f94fd4a64c44d6bdfc0e46": {
          "model_module": "@jupyter-widgets/controls",
          "model_name": "FloatProgressModel",
          "model_module_version": "1.5.0",
          "state": {
            "_dom_classes": [],
            "_model_module": "@jupyter-widgets/controls",
            "_model_module_version": "1.5.0",
            "_model_name": "FloatProgressModel",
            "_view_count": null,
            "_view_module": "@jupyter-widgets/controls",
            "_view_module_version": "1.5.0",
            "_view_name": "ProgressView",
            "bar_style": "success",
            "description": "",
            "description_tooltip": null,
            "layout": "IPY_MODEL_e031a574dd0040059852b821d2370325",
            "max": 7327,
            "min": 0,
            "orientation": "horizontal",
            "style": "IPY_MODEL_862a726cd35e4419982e7a12ecbcfca7",
            "value": 7327
          }
        },
        "f6bd30c974d04e16b220b177801ed1b9": {
          "model_module": "@jupyter-widgets/controls",
          "model_name": "HTMLModel",
          "model_module_version": "1.5.0",
          "state": {
            "_dom_classes": [],
            "_model_module": "@jupyter-widgets/controls",
            "_model_module_version": "1.5.0",
            "_model_name": "HTMLModel",
            "_view_count": null,
            "_view_module": "@jupyter-widgets/controls",
            "_view_module_version": "1.5.0",
            "_view_name": "HTMLView",
            "description": "",
            "description_tooltip": null,
            "layout": "IPY_MODEL_1b698406708a4ae68aefdc8109523c3e",
            "placeholder": "​",
            "style": "IPY_MODEL_a51ebe79e4bb479699be751ac5bc3688",
            "value": " 7.33k/7.33k [00:00&lt;00:00, 162kB/s]"
          }
        },
        "2f0a68e0e89d4226a0e38f251742cb5e": {
          "model_module": "@jupyter-widgets/base",
          "model_name": "LayoutModel",
          "model_module_version": "1.2.0",
          "state": {
            "_model_module": "@jupyter-widgets/base",
            "_model_module_version": "1.2.0",
            "_model_name": "LayoutModel",
            "_view_count": null,
            "_view_module": "@jupyter-widgets/base",
            "_view_module_version": "1.2.0",
            "_view_name": "LayoutView",
            "align_content": null,
            "align_items": null,
            "align_self": null,
            "border": null,
            "bottom": null,
            "display": null,
            "flex": null,
            "flex_flow": null,
            "grid_area": null,
            "grid_auto_columns": null,
            "grid_auto_flow": null,
            "grid_auto_rows": null,
            "grid_column": null,
            "grid_gap": null,
            "grid_row": null,
            "grid_template_areas": null,
            "grid_template_columns": null,
            "grid_template_rows": null,
            "height": null,
            "justify_content": null,
            "justify_items": null,
            "left": null,
            "margin": null,
            "max_height": null,
            "max_width": null,
            "min_height": null,
            "min_width": null,
            "object_fit": null,
            "object_position": null,
            "order": null,
            "overflow": null,
            "overflow_x": null,
            "overflow_y": null,
            "padding": null,
            "right": null,
            "top": null,
            "visibility": null,
            "width": null
          }
        },
        "6975668fd5d44b57bd8f2792fca1ef10": {
          "model_module": "@jupyter-widgets/base",
          "model_name": "LayoutModel",
          "model_module_version": "1.2.0",
          "state": {
            "_model_module": "@jupyter-widgets/base",
            "_model_module_version": "1.2.0",
            "_model_name": "LayoutModel",
            "_view_count": null,
            "_view_module": "@jupyter-widgets/base",
            "_view_module_version": "1.2.0",
            "_view_name": "LayoutView",
            "align_content": null,
            "align_items": null,
            "align_self": null,
            "border": null,
            "bottom": null,
            "display": null,
            "flex": null,
            "flex_flow": null,
            "grid_area": null,
            "grid_auto_columns": null,
            "grid_auto_flow": null,
            "grid_auto_rows": null,
            "grid_column": null,
            "grid_gap": null,
            "grid_row": null,
            "grid_template_areas": null,
            "grid_template_columns": null,
            "grid_template_rows": null,
            "height": null,
            "justify_content": null,
            "justify_items": null,
            "left": null,
            "margin": null,
            "max_height": null,
            "max_width": null,
            "min_height": null,
            "min_width": null,
            "object_fit": null,
            "object_position": null,
            "order": null,
            "overflow": null,
            "overflow_x": null,
            "overflow_y": null,
            "padding": null,
            "right": null,
            "top": null,
            "visibility": null,
            "width": null
          }
        },
        "6648f746bef947a2945fa7e8912b88a4": {
          "model_module": "@jupyter-widgets/controls",
          "model_name": "DescriptionStyleModel",
          "model_module_version": "1.5.0",
          "state": {
            "_model_module": "@jupyter-widgets/controls",
            "_model_module_version": "1.5.0",
            "_model_name": "DescriptionStyleModel",
            "_view_count": null,
            "_view_module": "@jupyter-widgets/base",
            "_view_module_version": "1.2.0",
            "_view_name": "StyleView",
            "description_width": ""
          }
        },
        "e031a574dd0040059852b821d2370325": {
          "model_module": "@jupyter-widgets/base",
          "model_name": "LayoutModel",
          "model_module_version": "1.2.0",
          "state": {
            "_model_module": "@jupyter-widgets/base",
            "_model_module_version": "1.2.0",
            "_model_name": "LayoutModel",
            "_view_count": null,
            "_view_module": "@jupyter-widgets/base",
            "_view_module_version": "1.2.0",
            "_view_name": "LayoutView",
            "align_content": null,
            "align_items": null,
            "align_self": null,
            "border": null,
            "bottom": null,
            "display": null,
            "flex": null,
            "flex_flow": null,
            "grid_area": null,
            "grid_auto_columns": null,
            "grid_auto_flow": null,
            "grid_auto_rows": null,
            "grid_column": null,
            "grid_gap": null,
            "grid_row": null,
            "grid_template_areas": null,
            "grid_template_columns": null,
            "grid_template_rows": null,
            "height": null,
            "justify_content": null,
            "justify_items": null,
            "left": null,
            "margin": null,
            "max_height": null,
            "max_width": null,
            "min_height": null,
            "min_width": null,
            "object_fit": null,
            "object_position": null,
            "order": null,
            "overflow": null,
            "overflow_x": null,
            "overflow_y": null,
            "padding": null,
            "right": null,
            "top": null,
            "visibility": null,
            "width": null
          }
        },
        "862a726cd35e4419982e7a12ecbcfca7": {
          "model_module": "@jupyter-widgets/controls",
          "model_name": "ProgressStyleModel",
          "model_module_version": "1.5.0",
          "state": {
            "_model_module": "@jupyter-widgets/controls",
            "_model_module_version": "1.5.0",
            "_model_name": "ProgressStyleModel",
            "_view_count": null,
            "_view_module": "@jupyter-widgets/base",
            "_view_module_version": "1.2.0",
            "_view_name": "StyleView",
            "bar_color": null,
            "description_width": ""
          }
        },
        "1b698406708a4ae68aefdc8109523c3e": {
          "model_module": "@jupyter-widgets/base",
          "model_name": "LayoutModel",
          "model_module_version": "1.2.0",
          "state": {
            "_model_module": "@jupyter-widgets/base",
            "_model_module_version": "1.2.0",
            "_model_name": "LayoutModel",
            "_view_count": null,
            "_view_module": "@jupyter-widgets/base",
            "_view_module_version": "1.2.0",
            "_view_name": "LayoutView",
            "align_content": null,
            "align_items": null,
            "align_self": null,
            "border": null,
            "bottom": null,
            "display": null,
            "flex": null,
            "flex_flow": null,
            "grid_area": null,
            "grid_auto_columns": null,
            "grid_auto_flow": null,
            "grid_auto_rows": null,
            "grid_column": null,
            "grid_gap": null,
            "grid_row": null,
            "grid_template_areas": null,
            "grid_template_columns": null,
            "grid_template_rows": null,
            "height": null,
            "justify_content": null,
            "justify_items": null,
            "left": null,
            "margin": null,
            "max_height": null,
            "max_width": null,
            "min_height": null,
            "min_width": null,
            "object_fit": null,
            "object_position": null,
            "order": null,
            "overflow": null,
            "overflow_x": null,
            "overflow_y": null,
            "padding": null,
            "right": null,
            "top": null,
            "visibility": null,
            "width": null
          }
        },
        "a51ebe79e4bb479699be751ac5bc3688": {
          "model_module": "@jupyter-widgets/controls",
          "model_name": "DescriptionStyleModel",
          "model_module_version": "1.5.0",
          "state": {
            "_model_module": "@jupyter-widgets/controls",
            "_model_module_version": "1.5.0",
            "_model_name": "DescriptionStyleModel",
            "_view_count": null,
            "_view_module": "@jupyter-widgets/base",
            "_view_module_version": "1.2.0",
            "_view_name": "StyleView",
            "description_width": ""
          }
        },
        "558fda97ed3146c797f301dbbf08fef5": {
          "model_module": "@jupyter-widgets/controls",
          "model_name": "HBoxModel",
          "model_module_version": "1.5.0",
          "state": {
            "_dom_classes": [],
            "_model_module": "@jupyter-widgets/controls",
            "_model_module_version": "1.5.0",
            "_model_name": "HBoxModel",
            "_view_count": null,
            "_view_module": "@jupyter-widgets/controls",
            "_view_module_version": "1.5.0",
            "_view_name": "HBoxView",
            "box_style": "",
            "children": [
              "IPY_MODEL_133a010b2c4c4f07a04d2527577952f7",
              "IPY_MODEL_d9f4db46b4964fdb9f63a78d947776d2",
              "IPY_MODEL_88a9963c1dd64afdba64d965d293650b"
            ],
            "layout": "IPY_MODEL_f5ac89b7b524436fbd65a7799dc2b405"
          }
        },
        "133a010b2c4c4f07a04d2527577952f7": {
          "model_module": "@jupyter-widgets/controls",
          "model_name": "HTMLModel",
          "model_module_version": "1.5.0",
          "state": {
            "_dom_classes": [],
            "_model_module": "@jupyter-widgets/controls",
            "_model_module_version": "1.5.0",
            "_model_name": "HTMLModel",
            "_view_count": null,
            "_view_module": "@jupyter-widgets/controls",
            "_view_module_version": "1.5.0",
            "_view_name": "HTMLView",
            "description": "",
            "description_tooltip": null,
            "layout": "IPY_MODEL_aa805a5fd24e4143b4f8b6a9189c1e9e",
            "placeholder": "​",
            "style": "IPY_MODEL_6ca189780bcd4d459ec366a9ca9085a4",
            "value": "Loading dataset shards: 100%"
          }
        },
        "d9f4db46b4964fdb9f63a78d947776d2": {
          "model_module": "@jupyter-widgets/controls",
          "model_name": "FloatProgressModel",
          "model_module_version": "1.5.0",
          "state": {
            "_dom_classes": [],
            "_model_module": "@jupyter-widgets/controls",
            "_model_module_version": "1.5.0",
            "_model_name": "FloatProgressModel",
            "_view_count": null,
            "_view_module": "@jupyter-widgets/controls",
            "_view_module_version": "1.5.0",
            "_view_name": "ProgressView",
            "bar_style": "success",
            "description": "",
            "description_tooltip": null,
            "layout": "IPY_MODEL_7f6eb139b2ed4f8badadbdba3213cc39",
            "max": 80,
            "min": 0,
            "orientation": "horizontal",
            "style": "IPY_MODEL_8349a9ce659f4c5890794150c02ea33b",
            "value": 80
          }
        },
        "88a9963c1dd64afdba64d965d293650b": {
          "model_module": "@jupyter-widgets/controls",
          "model_name": "HTMLModel",
          "model_module_version": "1.5.0",
          "state": {
            "_dom_classes": [],
            "_model_module": "@jupyter-widgets/controls",
            "_model_module_version": "1.5.0",
            "_model_name": "HTMLModel",
            "_view_count": null,
            "_view_module": "@jupyter-widgets/controls",
            "_view_module_version": "1.5.0",
            "_view_name": "HTMLView",
            "description": "",
            "description_tooltip": null,
            "layout": "IPY_MODEL_5288af9371bc4bf6a159d8bdefa5fbb1",
            "placeholder": "​",
            "style": "IPY_MODEL_6decf35ecd834ee5bebb58b07fd2da63",
            "value": " 80/80 [04:32&lt;00:00,  2.61s/it]"
          }
        },
        "f5ac89b7b524436fbd65a7799dc2b405": {
          "model_module": "@jupyter-widgets/base",
          "model_name": "LayoutModel",
          "model_module_version": "1.2.0",
          "state": {
            "_model_module": "@jupyter-widgets/base",
            "_model_module_version": "1.2.0",
            "_model_name": "LayoutModel",
            "_view_count": null,
            "_view_module": "@jupyter-widgets/base",
            "_view_module_version": "1.2.0",
            "_view_name": "LayoutView",
            "align_content": null,
            "align_items": null,
            "align_self": null,
            "border": null,
            "bottom": null,
            "display": null,
            "flex": null,
            "flex_flow": null,
            "grid_area": null,
            "grid_auto_columns": null,
            "grid_auto_flow": null,
            "grid_auto_rows": null,
            "grid_column": null,
            "grid_gap": null,
            "grid_row": null,
            "grid_template_areas": null,
            "grid_template_columns": null,
            "grid_template_rows": null,
            "height": null,
            "justify_content": null,
            "justify_items": null,
            "left": null,
            "margin": null,
            "max_height": null,
            "max_width": null,
            "min_height": null,
            "min_width": null,
            "object_fit": null,
            "object_position": null,
            "order": null,
            "overflow": null,
            "overflow_x": null,
            "overflow_y": null,
            "padding": null,
            "right": null,
            "top": null,
            "visibility": null,
            "width": null
          }
        },
        "aa805a5fd24e4143b4f8b6a9189c1e9e": {
          "model_module": "@jupyter-widgets/base",
          "model_name": "LayoutModel",
          "model_module_version": "1.2.0",
          "state": {
            "_model_module": "@jupyter-widgets/base",
            "_model_module_version": "1.2.0",
            "_model_name": "LayoutModel",
            "_view_count": null,
            "_view_module": "@jupyter-widgets/base",
            "_view_module_version": "1.2.0",
            "_view_name": "LayoutView",
            "align_content": null,
            "align_items": null,
            "align_self": null,
            "border": null,
            "bottom": null,
            "display": null,
            "flex": null,
            "flex_flow": null,
            "grid_area": null,
            "grid_auto_columns": null,
            "grid_auto_flow": null,
            "grid_auto_rows": null,
            "grid_column": null,
            "grid_gap": null,
            "grid_row": null,
            "grid_template_areas": null,
            "grid_template_columns": null,
            "grid_template_rows": null,
            "height": null,
            "justify_content": null,
            "justify_items": null,
            "left": null,
            "margin": null,
            "max_height": null,
            "max_width": null,
            "min_height": null,
            "min_width": null,
            "object_fit": null,
            "object_position": null,
            "order": null,
            "overflow": null,
            "overflow_x": null,
            "overflow_y": null,
            "padding": null,
            "right": null,
            "top": null,
            "visibility": null,
            "width": null
          }
        },
        "6ca189780bcd4d459ec366a9ca9085a4": {
          "model_module": "@jupyter-widgets/controls",
          "model_name": "DescriptionStyleModel",
          "model_module_version": "1.5.0",
          "state": {
            "_model_module": "@jupyter-widgets/controls",
            "_model_module_version": "1.5.0",
            "_model_name": "DescriptionStyleModel",
            "_view_count": null,
            "_view_module": "@jupyter-widgets/base",
            "_view_module_version": "1.2.0",
            "_view_name": "StyleView",
            "description_width": ""
          }
        },
        "7f6eb139b2ed4f8badadbdba3213cc39": {
          "model_module": "@jupyter-widgets/base",
          "model_name": "LayoutModel",
          "model_module_version": "1.2.0",
          "state": {
            "_model_module": "@jupyter-widgets/base",
            "_model_module_version": "1.2.0",
            "_model_name": "LayoutModel",
            "_view_count": null,
            "_view_module": "@jupyter-widgets/base",
            "_view_module_version": "1.2.0",
            "_view_name": "LayoutView",
            "align_content": null,
            "align_items": null,
            "align_self": null,
            "border": null,
            "bottom": null,
            "display": null,
            "flex": null,
            "flex_flow": null,
            "grid_area": null,
            "grid_auto_columns": null,
            "grid_auto_flow": null,
            "grid_auto_rows": null,
            "grid_column": null,
            "grid_gap": null,
            "grid_row": null,
            "grid_template_areas": null,
            "grid_template_columns": null,
            "grid_template_rows": null,
            "height": null,
            "justify_content": null,
            "justify_items": null,
            "left": null,
            "margin": null,
            "max_height": null,
            "max_width": null,
            "min_height": null,
            "min_width": null,
            "object_fit": null,
            "object_position": null,
            "order": null,
            "overflow": null,
            "overflow_x": null,
            "overflow_y": null,
            "padding": null,
            "right": null,
            "top": null,
            "visibility": null,
            "width": null
          }
        },
        "8349a9ce659f4c5890794150c02ea33b": {
          "model_module": "@jupyter-widgets/controls",
          "model_name": "ProgressStyleModel",
          "model_module_version": "1.5.0",
          "state": {
            "_model_module": "@jupyter-widgets/controls",
            "_model_module_version": "1.5.0",
            "_model_name": "ProgressStyleModel",
            "_view_count": null,
            "_view_module": "@jupyter-widgets/base",
            "_view_module_version": "1.2.0",
            "_view_name": "StyleView",
            "bar_color": null,
            "description_width": ""
          }
        },
        "5288af9371bc4bf6a159d8bdefa5fbb1": {
          "model_module": "@jupyter-widgets/base",
          "model_name": "LayoutModel",
          "model_module_version": "1.2.0",
          "state": {
            "_model_module": "@jupyter-widgets/base",
            "_model_module_version": "1.2.0",
            "_model_name": "LayoutModel",
            "_view_count": null,
            "_view_module": "@jupyter-widgets/base",
            "_view_module_version": "1.2.0",
            "_view_name": "LayoutView",
            "align_content": null,
            "align_items": null,
            "align_self": null,
            "border": null,
            "bottom": null,
            "display": null,
            "flex": null,
            "flex_flow": null,
            "grid_area": null,
            "grid_auto_columns": null,
            "grid_auto_flow": null,
            "grid_auto_rows": null,
            "grid_column": null,
            "grid_gap": null,
            "grid_row": null,
            "grid_template_areas": null,
            "grid_template_columns": null,
            "grid_template_rows": null,
            "height": null,
            "justify_content": null,
            "justify_items": null,
            "left": null,
            "margin": null,
            "max_height": null,
            "max_width": null,
            "min_height": null,
            "min_width": null,
            "object_fit": null,
            "object_position": null,
            "order": null,
            "overflow": null,
            "overflow_x": null,
            "overflow_y": null,
            "padding": null,
            "right": null,
            "top": null,
            "visibility": null,
            "width": null
          }
        },
        "6decf35ecd834ee5bebb58b07fd2da63": {
          "model_module": "@jupyter-widgets/controls",
          "model_name": "DescriptionStyleModel",
          "model_module_version": "1.5.0",
          "state": {
            "_model_module": "@jupyter-widgets/controls",
            "_model_module_version": "1.5.0",
            "_model_name": "DescriptionStyleModel",
            "_view_count": null,
            "_view_module": "@jupyter-widgets/base",
            "_view_module_version": "1.2.0",
            "_view_name": "StyleView",
            "description_width": ""
          }
        }
      }
    },
    "accelerator": "GPU"
  },
  "cells": [
    {
      "cell_type": "code",
      "source": [
        "!pip install datasets\n",
        "!pip install tiktoken"
      ],
      "metadata": {
        "id": "pxgcxj85uXW1"
      },
      "execution_count": null,
      "outputs": []
    },
    {
      "cell_type": "code",
      "execution_count": null,
      "metadata": {
        "id": "OTdqZBC9H-fS"
      },
      "outputs": [],
      "source": [
        "from datasets import load_dataset"
      ]
    },
    {
      "cell_type": "code",
      "source": [
        "dataset = load_dataset(\"Skylion007/openwebtext\", cache_dir=\"/content/drive/MyDrive/Colab\\ Notebooks/openwebtext\")"
      ],
      "metadata": {
        "colab": {
          "base_uri": "https://localhost:8080/",
          "height": 312,
          "referenced_widgets": [
            "0b5fe0b97745418e9c47117e3cb5fa32",
            "64b38d7dab1544cca5b29569f42fdc25",
            "10add0e3644b434ab010e156ccbf217e",
            "5794d5d0c9ff4f1a9ba3340774bcb0f2",
            "87e64aa0bcfd4fb38b643e7dcd16b204",
            "f8dbfed835384f95b88a21fdfe9df78e",
            "f2ce80a6055f46aaac6365d272ff16e4",
            "8fd454744e214928840c432a99cbdb6c",
            "0fc8943cc82644d6bbd37442e713d703",
            "4b274b798bba4d3fb1043184fb1d49d4",
            "2b5c8f6ddb354335b330a433e11fde33",
            "c77edd49884340a786fd04c8f5176e1c",
            "944211669a94410ca27cf18f4f12c8e0",
            "2c464fbeb7f94fd4a64c44d6bdfc0e46",
            "f6bd30c974d04e16b220b177801ed1b9",
            "2f0a68e0e89d4226a0e38f251742cb5e",
            "6975668fd5d44b57bd8f2792fca1ef10",
            "6648f746bef947a2945fa7e8912b88a4",
            "e031a574dd0040059852b821d2370325",
            "862a726cd35e4419982e7a12ecbcfca7",
            "1b698406708a4ae68aefdc8109523c3e",
            "a51ebe79e4bb479699be751ac5bc3688",
            "558fda97ed3146c797f301dbbf08fef5",
            "133a010b2c4c4f07a04d2527577952f7",
            "d9f4db46b4964fdb9f63a78d947776d2",
            "88a9963c1dd64afdba64d965d293650b",
            "f5ac89b7b524436fbd65a7799dc2b405",
            "aa805a5fd24e4143b4f8b6a9189c1e9e",
            "6ca189780bcd4d459ec366a9ca9085a4",
            "7f6eb139b2ed4f8badadbdba3213cc39",
            "8349a9ce659f4c5890794150c02ea33b",
            "5288af9371bc4bf6a159d8bdefa5fbb1",
            "6decf35ecd834ee5bebb58b07fd2da63"
          ]
        },
        "id": "GawqtVtLuWdp",
        "outputId": "0d56f1dc-4664-46b3-f87f-54c141fbec27"
      },
      "execution_count": null,
      "outputs": [
        {
          "output_type": "stream",
          "name": "stderr",
          "text": [
            "/usr/local/lib/python3.10/dist-packages/huggingface_hub/utils/_token.py:89: UserWarning: \n",
            "The secret `HF_TOKEN` does not exist in your Colab secrets.\n",
            "To authenticate with the Hugging Face Hub, create a token in your settings tab (https://huggingface.co/settings/tokens), set it as secret in your Google Colab and restart your session.\n",
            "You will be able to reuse this secret in all of your notebooks.\n",
            "Please note that authentication is recommended but still optional to access public models or datasets.\n",
            "  warnings.warn(\n",
            "/usr/local/lib/python3.10/dist-packages/datasets/load.py:1486: FutureWarning: The repository for Skylion007/openwebtext contains custom code which must be executed to correctly load the dataset. You can inspect the repository content at https://hf.co/datasets/Skylion007/openwebtext\n",
            "You can avoid this message in future by passing the argument `trust_remote_code=True`.\n",
            "Passing `trust_remote_code=True` will be mandatory to load this dataset from the next major release of `datasets`.\n",
            "  warnings.warn(\n"
          ]
        },
        {
          "output_type": "display_data",
          "data": {
            "text/plain": [
              "Downloading builder script:   0%|          | 0.00/2.73k [00:00<?, ?B/s]"
            ],
            "application/vnd.jupyter.widget-view+json": {
              "version_major": 2,
              "version_minor": 0,
              "model_id": "0b5fe0b97745418e9c47117e3cb5fa32"
            }
          },
          "metadata": {}
        },
        {
          "output_type": "display_data",
          "data": {
            "text/plain": [
              "Downloading readme:   0%|          | 0.00/7.33k [00:00<?, ?B/s]"
            ],
            "application/vnd.jupyter.widget-view+json": {
              "version_major": 2,
              "version_minor": 0,
              "model_id": "c77edd49884340a786fd04c8f5176e1c"
            }
          },
          "metadata": {}
        },
        {
          "output_type": "display_data",
          "data": {
            "text/plain": [
              "Loading dataset shards:   0%|          | 0/80 [00:00<?, ?it/s]"
            ],
            "application/vnd.jupyter.widget-view+json": {
              "version_major": 2,
              "version_minor": 0,
              "model_id": "558fda97ed3146c797f301dbbf08fef5"
            }
          },
          "metadata": {}
        }
      ]
    },
    {
      "cell_type": "code",
      "source": [
        "print(dataset)"
      ],
      "metadata": {
        "colab": {
          "base_uri": "https://localhost:8080/"
        },
        "id": "wSpTAUw95My9",
        "outputId": "d09da334-5223-4760-f5cc-3383478f6311"
      },
      "execution_count": null,
      "outputs": [
        {
          "output_type": "stream",
          "name": "stdout",
          "text": [
            "DatasetDict({\n",
            "    train: Dataset({\n",
            "        features: ['text'],\n",
            "        num_rows: 8013769\n",
            "    })\n",
            "})\n"
          ]
        }
      ]
    },
    {
      "cell_type": "code",
      "source": [
        "from torch.utils.data import Dataset\n",
        "\n",
        "class CustomTextDataset(Dataset):\n",
        "    def __init__(self, dataset, tokenizer, seq_len):\n",
        "        self.dataset = dataset\n",
        "        self.tokenizer = tokenizer\n",
        "        self.seq_len = seq_len\n",
        "        self.encoded_texts = []\n",
        "\n",
        "        for text in dataset['text']:\n",
        "            encoded_text = tokenizer.encode(text)\n",
        "            self.encoded_texts.append(encoded_text)\n",
        "\n",
        "    def __len__(self):\n",
        "        return len(self.encoded_texts)\n",
        "\n",
        "    def __getitem__(self, idx):\n",
        "        encoded_text = self.encoded_texts[idx]\n",
        "        # input_ids = encoded_text[:self.seq_len]\n",
        "        # labels = encoded_text[1:]\n",
        "\n",
        "        chunks = [encoded_text[i:i+self.seq_len+1] for i in range(0, len(encoded_text), self.seq_len)]\n",
        "\n",
        "        input_sequences = []\n",
        "        target_sequences = []\n",
        "\n",
        "        for chunk in chunks:\n",
        "            if len(chunk) == self.seq_len + 1:\n",
        "                input_sequence = chunk[:-1]\n",
        "                target_sequence = chunk[1:]\n",
        "                input_sequences.append(input_sequence)\n",
        "                target_sequences.append(target_sequence)\n",
        "\n",
        "        return input_sequences, target_sequences"
      ],
      "metadata": {
        "id": "UgRbRtThCzWc"
      },
      "execution_count": null,
      "outputs": []
    },
    {
      "cell_type": "code",
      "source": [
        "import tiktoken #tiktoken is a fast BPE (Byte-Pair Encoding) tokenizer for use with OpenAI's models\n",
        "enc = tiktoken.get_encoding(\"gpt2\")"
      ],
      "metadata": {
        "id": "a3sF9EWI5c2_"
      },
      "execution_count": null,
      "outputs": []
    },
    {
      "cell_type": "code",
      "source": [
        "split = int(len(dataset['train']) * 0.9)\n",
        "train_data = dataset['train'][:split]\n",
        "val_data = dataset['train'][split:]"
      ],
      "metadata": {
        "id": "JU0ESwXR6ySN"
      },
      "execution_count": null,
      "outputs": []
    },
    {
      "cell_type": "code",
      "source": [
        "from torch.utils.data import DataLoader\n",
        "\n",
        "train_dataloader = DataLoader(CustomTextDataset(train_data, enc, seq_len=512), batch_size=64, shuffle=True, num_workers=4)\n",
        "val_dataloader = DataLoader(CustomTextDataset(val_data, enc, seq_len=512), batch_size=64, shuffle=False, num_workers=4)"
      ],
      "metadata": {
        "id": "5AcE6h6ROrQB"
      },
      "execution_count": null,
      "outputs": []
    },
    {
      "cell_type": "code",
      "source": [
        "# Fetch a batch from the training DataLoader\n",
        "sample_batch = next(iter(train_loader))\n",
        "\n",
        "# Check and print the types of the elements in the batch\n",
        "input_sequences, target_sequences = sample_batch\n",
        "print(input_sequences.shape)\n",
        "print(target_sequences.shape)\n",
        "print(f\"Input type: {type(input_sequences)}\")\n",
        "print(f\"Target type: {type(target_sequences)}\")\n",
        "print(input_sequences)\n",
        "print(target_sequences)"
      ],
      "metadata": {
        "id": "aG07D5c4CpTb"
      },
      "execution_count": null,
      "outputs": []
    },
    {
      "cell_type": "code",
      "source": [
        "print(dataset['train'][0])\n",
        "print(len(dataset['train']))\n",
        "print(len(dataset['train'][0]['text']))"
      ],
      "metadata": {
        "colab": {
          "base_uri": "https://localhost:8080/"
        },
        "id": "2H2CKqed5ORy",
        "outputId": "eed35cf8-400a-4e1d-ab0b-d352f3c4fba0"
      },
      "execution_count": null,
      "outputs": [
        {
          "output_type": "stream",
          "name": "stdout",
          "text": [
            "{'text': 'Port-au-Prince, Haiti (CNN) -- Earthquake victims, writhing in pain and grasping at life, watched doctors and nurses walk away from a field hospital Friday night after a Belgian medical team evacuated the area, saying it was concerned about security.\\n\\nThe decision left CNN Chief Medical Correspondent Sanjay Gupta as the only doctor at the hospital to get the patients through the night.\\n\\nCNN initially reported, based on conversations with some of the doctors, that the United Nations ordered the Belgian First Aid and Support Team to evacuate. However, Belgian Chief Coordinator Geert Gijs, a doctor who was at the hospital with 60 Belgian medical personnel, said it was his decision to pull the team out for the night. Gijs said he requested U.N. security personnel to staff the hospital overnight, but was told that peacekeepers would only be able to evacuate the team.\\n\\nHe said it was a \"tough decision\" but that he accepted the U.N. offer to evacuate after a Canadian medical team, also at the hospital with Canadian security officers, left the site Friday afternoon. The Belgian team returned Saturday morning.\\n\\nGijs said the United Nations has agreed to provide security for Saturday night. The team has requested the Belgian government to send its own troops for the field hospital, which Gijs expects to arrive late Sunday.\\n\\nResponding to the CNN report that Gupta was the only doctor left at the Port-au-Prince field hospital, U.N. spokesman Martin Nesirky said Saturday that the world body\\'s mission in Haiti did not order any medical team to leave. If the team left, it was at the request of their own organization, he said.\\n\\nEdmond Mulet, the U.N. assistant secretary general for peacekeeping operations, told reporters later that local security officers deemed the makeshift hospital unsafe.\\n\\n\"It seems that we\\'ve heard some reports in the international media that the United Nations asked or forced some medical teams to not work any more in some clinic -- that is not true, that is completely untrue,\" Mulet said Saturday.\\n\\nCNN video from the scene Friday night shows the Belgian team packing up its supplies and leaving with an escort of blue-helmeted U.N. peacekeepers in marked trucks.\\n\\nView or add to CNN\\'s database of missing persons in Haiti\\n\\nGupta -- assisted by other CNN staffers, security personnel and at least one Haitian nurse who refused to leave -- assessed the needs of the 25 patients, but there was little they could do without supplies.\\n\\nMore people, some in critical condition, were trickling in late Friday.\\n\\n\"I\\'ve never been in a situation like this. This is quite ridiculous,\" Gupta said.\\n\\nWith a dearth of medical facilities in Haiti\\'s capital, ambulances had nowhere else to take patients, some of whom had suffered severe trauma -- amputations and head injuries -- under the rubble. Others had suffered a great deal of blood loss, but there were no blood supplies left at the clinic.\\n\\nGupta feared that some would not survive the night.\\n\\nHe and the others stayed with the injured all night, after the medical team had left and after the generators gave out and the tents turned pitch black.\\n\\nGupta monitored patients\\' vital signs, administered painkillers and continued intravenous drips. He stabilized three new patients in critical condition.\\n\\nAt 3:45 a.m., he posted a message on Twitter: \"pulling all nighter at haiti field hosp. lots of work, but all patients stable. turned my crew into a crack med team tonight.\"\\n\\nAre you in Haiti and safe? Share your photos\\n\\nHe said the Belgian doctors did not want to leave their patients behind but were ordered out by the United Nations, which sent buses to transport them.\\n\\n\"There is concern about riots not far from here -- and this is part of the problem,\" Gupta said.\\n\\nThere have been scattered reports of violence throughout the capital.\\n\\n\"What is striking to me as a physician is that patients who just had surgery, patients who are critically ill, are essentially being left here, nobody to care for them,\" Gupta said.\\n\\nSandra Pierre, a Haitian who has been helping at the makeshift hospital, said the medical staff took most of the supplies with them.\\n\\n\"All the doctors, all the nurses are gone,\" she said. \"They are expected to be back tomorrow. They had no plan on leaving tonight. It was an order that came suddenly.\"\\n\\nShe told Gupta, \"It\\'s just you.\"\\n\\nA 7.0 magnitude earthquake flattened Haiti\\'s capital city Tuesday afternoon, affecting as many as 3 million people as it fanned out across the island nation. Tens of thousands of people are feared dead.\\n\\nHaiti, the poorest nation in the Western hemisphere, lacked adequate medical resources even before the disaster and has been struggling this week to tend to huge numbers of injured. The clinic, set up under several tents, was a godsend to the few who were lucky to have been brought there.\\n\\nRetired Army Lt. Gen. Russel Honore, who led relief efforts for Hurricane Katrina in 2005, said the evacuation of the clinic\\'s medical staff was unforgivable.\\n\\n\"Search and rescue must trump security,\" Honoré said. \"I\\'ve never seen anything like this before in my life. They need to man up and get back in there.\"\\n\\nHonoré drew parallels between the tragedy in New Orleans, Louisiana, and in Port-au-Prince. But even in the chaos of Katrina, he said, he had never seen medical staff walk away.\\n\\n\"I find this astonishing these doctors left,\" he said. \"People are scared of the poor.\"\\n\\nCNN\\'s Justine Redman, Danielle Dellorto and John Bonifield contributed to this report.'}\n",
            "8013769\n",
            "5516\n"
          ]
        }
      ]
    },
    {
      "cell_type": "code",
      "source": [
        "print(enc.encode(\"Hello world!\"))\n",
        "print(enc.decode([50000]))"
      ],
      "metadata": {
        "colab": {
          "base_uri": "https://localhost:8080/"
        },
        "id": "WiNtfwqF_fcz",
        "outputId": "6e947f81-8fe9-4e44-c32e-74526f84c70d"
      },
      "execution_count": null,
      "outputs": [
        {
          "output_type": "stream",
          "name": "stdout",
          "text": [
            "[15496, 995, 0]\n",
            " grids\n"
          ]
        }
      ]
    },
    {
      "cell_type": "code",
      "source": [
        "train = enc.encode(dataset['train'][0]['text'])\n",
        "print(train)\n",
        "print(max(train))\n",
        "print(len(train))"
      ],
      "metadata": {
        "colab": {
          "base_uri": "https://localhost:8080/"
        },
        "id": "tvXZ9-XKAgu3",
        "outputId": "5f478c4c-67e1-458f-b3ea-a941df4aaf32"
      },
      "execution_count": null,
      "outputs": [
        {
          "output_type": "stream",
          "name": "stdout",
          "text": [
            "[13924, 12, 559, 12, 35784, 11, 25051, 357, 18474, 8, 1377, 45591, 4970, 11, 1319, 44556, 287, 2356, 290, 44787, 379, 1204, 11, 7342, 7519, 290, 20669, 2513, 1497, 422, 257, 2214, 4436, 3217, 1755, 706, 257, 21402, 3315, 1074, 23724, 262, 1989, 11, 2282, 340, 373, 5213, 546, 2324, 13, 198, 198, 464, 2551, 1364, 8100, 5953, 8366, 34428, 298, 2986, 33708, 42095, 355, 262, 691, 6253, 379, 262, 4436, 284, 651, 262, 3871, 832, 262, 1755, 13, 198, 198, 18474, 7317, 2098, 11, 1912, 319, 10275, 351, 617, 286, 262, 7519, 11, 326, 262, 1578, 7973, 6149, 262, 21402, 3274, 22225, 290, 7929, 4816, 284, 36316, 13, 2102, 11, 21402, 5953, 36831, 2269, 861, 402, 2926, 82, 11, 257, 6253, 508, 373, 379, 262, 4436, 351, 3126, 21402, 3315, 8213, 11, 531, 340, 373, 465, 2551, 284, 2834, 262, 1074, 503, 329, 262, 1755, 13, 402, 2926, 82, 531, 339, 9167, 471, 13, 45, 13, 2324, 8213, 284, 3085, 262, 4436, 13417, 11, 475, 373, 1297, 326, 4167, 24952, 561, 691, 307, 1498, 284, 36316, 262, 1074, 13, 198, 198, 1544, 531, 340, 373, 257, 366, 83, 619, 2551, 1, 475, 326, 339, 6292, 262, 471, 13, 45, 13, 2897, 284, 36316, 706, 257, 5398, 3315, 1074, 11, 635, 379, 262, 4436, 351, 5398, 2324, 3790, 11, 1364, 262, 2524, 3217, 6672, 13, 383, 21402, 1074, 4504, 3909, 3329, 13, 198, 198, 38, 2926, 82, 531, 262, 1578, 7973, 468, 4987, 284, 2148, 2324, 329, 3909, 1755, 13, 383, 1074, 468, 9167, 262, 21402, 1230, 284, 3758, 663, 898, 6553, 329, 262, 2214, 4436, 11, 543, 402, 2926, 82, 13423, 284, 9240, 2739, 3502, 13, 198, 198, 19309, 42703, 284, 262, 8100, 989, 326, 42095, 373, 262, 691, 6253, 1364, 379, 262, 4347, 12, 559, 12, 35784, 2214, 4436, 11, 471, 13, 45, 13, 6523, 5780, 399, 274, 343, 2584, 531, 3909, 326, 262, 995, 1767, 338, 4365, 287, 25051, 750, 407, 1502, 597, 3315, 1074, 284, 2666, 13, 1002, 262, 1074, 1364, 11, 340, 373, 379, 262, 2581, 286, 511, 898, 4009, 11, 339, 531, 13, 198, 198, 7407, 6327, 8252, 1616, 11, 262, 471, 13, 45, 13, 8796, 7705, 2276, 329, 4167, 19934, 4560, 11, 1297, 7638, 1568, 326, 1957, 2324, 3790, 10762, 262, 34064, 4436, 21596, 13, 198, 198, 1, 1026, 2331, 326, 356, 1053, 2982, 617, 3136, 287, 262, 3230, 2056, 326, 262, 1578, 7973, 1965, 393, 4137, 617, 3315, 3466, 284, 407, 670, 597, 517, 287, 617, 15760, 1377, 326, 318, 407, 2081, 11, 326, 318, 3190, 35212, 553, 8252, 1616, 531, 3909, 13, 198, 198, 18474, 2008, 422, 262, 3715, 3217, 1755, 2523, 262, 21402, 1074, 24157, 510, 663, 9416, 290, 4305, 351, 281, 27675, 286, 4171, 12, 2978, 4164, 276, 471, 13, 45, 13, 4167, 24952, 287, 7498, 13960, 13, 198, 198, 7680, 393, 751, 284, 8100, 338, 6831, 286, 4814, 6506, 287, 25051, 198, 198, 8205, 32283, 1377, 18419, 416, 584, 8100, 23033, 11, 2324, 8213, 290, 379, 1551, 530, 48723, 15849, 508, 6520, 284, 2666, 1377, 15276, 262, 2476, 286, 262, 1679, 3871, 11, 475, 612, 373, 1310, 484, 714, 466, 1231, 9416, 13, 198, 198, 5167, 661, 11, 617, 287, 4688, 4006, 11, 547, 6908, 1359, 287, 2739, 3217, 13, 198, 198, 1, 40, 1053, 1239, 587, 287, 257, 3074, 588, 428, 13, 770, 318, 2407, 11441, 553, 42095, 531, 13, 198, 198, 3152, 257, 390, 11999, 286, 3315, 7291, 287, 25051, 338, 3139, 11, 18907, 1817, 550, 12062, 2073, 284, 1011, 3871, 11, 617, 286, 4150, 550, 6989, 6049, 14649, 1377, 40338, 602, 290, 1182, 6821, 1377, 739, 262, 29632, 13, 12691, 550, 6989, 257, 1049, 1730, 286, 2910, 2994, 11, 475, 612, 547, 645, 2910, 9416, 1364, 379, 262, 15760, 13, 198, 198, 8205, 32283, 15240, 326, 617, 561, 407, 7866, 262, 1755, 13, 198, 198, 1544, 290, 262, 1854, 9658, 351, 262, 6686, 477, 1755, 11, 706, 262, 3315, 1074, 550, 1364, 290, 706, 262, 27298, 2921, 503, 290, 262, 29804, 2900, 7078, 2042, 13, 198, 198, 8205, 32283, 20738, 3871, 6, 9204, 5895, 11, 17169, 2356, 43492, 290, 3767, 45840, 516, 1454, 862, 13, 679, 44945, 1115, 649, 3871, 287, 4688, 4006, 13, 198, 198, 2953, 513, 25, 2231, 257, 13, 76, 1539, 339, 4481, 257, 3275, 319, 3009, 25, 366, 31216, 278, 477, 299, 4799, 379, 387, 8846, 2214, 10496, 13, 6041, 286, 670, 11, 475, 477, 3871, 8245, 13, 2900, 616, 5462, 656, 257, 8469, 1117, 1074, 9975, 526, 198, 198, 8491, 345, 287, 25051, 290, 3338, 30, 8734, 534, 5205, 198, 198, 1544, 531, 262, 21402, 7519, 750, 407, 765, 284, 2666, 511, 3871, 2157, 475, 547, 6149, 503, 416, 262, 1578, 7973, 11, 543, 1908, 16893, 284, 4839, 606, 13, 198, 198, 1, 1858, 318, 2328, 546, 23766, 407, 1290, 422, 994, 1377, 290, 428, 318, 636, 286, 262, 1917, 553, 42095, 531, 13, 198, 198, 1858, 423, 587, 16830, 3136, 286, 3685, 3690, 262, 3139, 13, 198, 198, 1, 2061, 318, 8871, 284, 502, 355, 257, 14325, 318, 326, 3871, 508, 655, 550, 8185, 11, 3871, 508, 389, 19475, 2801, 11, 389, 6986, 852, 1364, 994, 11, 8168, 284, 1337, 329, 606, 553, 42095, 531, 13, 198, 198, 50, 15918, 21204, 11, 257, 48723, 508, 468, 587, 5742, 379, 262, 34064, 4436, 11, 531, 262, 3315, 3085, 1718, 749, 286, 262, 9416, 351, 606, 13, 198, 198, 1, 3237, 262, 7519, 11, 477, 262, 20669, 389, 3750, 553, 673, 531, 13, 366, 2990, 389, 2938, 284, 307, 736, 9439, 13, 1119, 550, 645, 1410, 319, 4305, 9975, 13, 632, 373, 281, 1502, 326, 1625, 6451, 526, 198, 198, 3347, 1297, 42095, 11, 366, 1026, 338, 655, 345, 526, 198, 198, 32, 767, 13, 15, 14735, 16295, 45096, 25051, 338, 3139, 1748, 3431, 6672, 11, 13891, 355, 867, 355, 513, 1510, 661, 355, 340, 277, 3577, 503, 1973, 262, 7022, 3277, 13, 40280, 286, 4138, 286, 661, 389, 15240, 2636, 13, 198, 198, 39, 4548, 72, 11, 262, 27335, 3277, 287, 262, 4885, 33169, 11, 19989, 12872, 3315, 4133, 772, 878, 262, 9336, 290, 468, 587, 9648, 428, 1285, 284, 4327, 284, 3236, 3146, 286, 6686, 13, 383, 15760, 11, 900, 510, 739, 1811, 29804, 11, 373, 257, 11858, 437, 284, 262, 1178, 508, 547, 9670, 284, 423, 587, 3181, 612, 13, 198, 198, 9781, 1202, 5407, 19090, 13, 5215, 13, 9223, 741, 8835, 382, 11, 508, 2957, 8259, 4040, 329, 16004, 33251, 287, 5075, 11, 531, 262, 24663, 286, 262, 15760, 338, 3315, 3085, 373, 28371, 70, 21911, 13, 198, 198, 1, 18243, 290, 9992, 1276, 19997, 2324, 553, 21071, 2634, 531, 13, 366, 40, 1053, 1239, 1775, 1997, 588, 428, 878, 287, 616, 1204, 13, 1119, 761, 284, 582, 510, 290, 651, 736, 287, 612, 526, 198, 198, 29478, 273, 2634, 9859, 30614, 1022, 262, 13574, 287, 968, 12255, 11, 13340, 11, 290, 287, 4347, 12, 559, 12, 35784, 13, 887, 772, 287, 262, 11918, 286, 33251, 11, 339, 531, 11, 339, 550, 1239, 1775, 3315, 3085, 2513, 1497, 13, 198, 198, 1, 40, 1064, 428, 21994, 777, 7519, 1364, 553, 339, 531, 13, 366, 8061, 389, 12008, 286, 262, 3595, 526, 198, 198, 18474, 338, 2329, 500, 2297, 805, 11, 39808, 23617, 419, 78, 290, 1757, 7979, 361, 1164, 8639, 284, 428, 989, 13]\n",
            "48723\n",
            "1217\n"
          ]
        }
      ]
    },
    {
      "cell_type": "code",
      "source": [
        "import torch\n",
        "import torch.nn as nn\n",
        "from torch.nn import functional as F\n",
        "\n",
        "# hyperparameters\n",
        "batch_size = 64 # how many independent sequences will be processed in parallel\n",
        "seq_len = 256 # the maximum context length for predictions\n",
        "max_iters = 15000\n",
        "eval_interval = 500\n",
        "learning_rate = 3e-4\n",
        "device = 'cuda' if torch.cuda.is_available() else 'cpu'\n",
        "eval_iters = 200\n",
        "n_embd = 384 # same as d_model\n",
        "n_head = 6\n",
        "n_layer = 6\n",
        "dropout = 0.2\n",
        "EPOCHS = 20"
      ],
      "metadata": {
        "id": "CRy-miWP_u-7"
      },
      "execution_count": null,
      "outputs": []
    },
    {
      "cell_type": "code",
      "source": [
        "class Head(nn.Module):\n",
        "    '''one head of self-attention'''\n",
        "    def __init__(self, head_size):\n",
        "        super().__init__()\n",
        "        self.key = nn.Linear(n_embd, head_size, bias=False)\n",
        "        self.query = nn.Linear(n_embd, head_size, bias=False)\n",
        "        self.value = nn.Linear(n_embd, head_size, bias=False)\n",
        "        self.register_buffer('tril', torch.tril(torch.ones(seq_len, seq_len)))\n",
        "\n",
        "        self.dropout = nn.Dropout(dropout)\n",
        "\n",
        "    def forward(self, x):\n",
        "        # inputs: (batch, time-step, channels) == (batch_size, seq_len, d_model)\n",
        "        # outputs: (batch, time-step, head size) == (batch_size, seq_len, d_k)\n",
        "        B, T, C = x.shape\n",
        "        k = self.key(x)   # (B, T, hs)\n",
        "        q = self.query(x) # (B, T, hs)\n",
        "\n",
        "        attention_scores = q @ k.transpose(-2, -1) * k.shape[-1]**-0.5 # (B, T, hs) @ (B, hs, T) -> (B, T, T) WAIT HOLD UP THE BIGGEST MISTAKE WAS HERE\n",
        "        attention_scores = attention_scores.masked_fill(self.tril[:T, :T] == 0, float('-inf')) # (B, T, T)\n",
        "        attention_scores = F.softmax(attention_scores, dim=-1)\n",
        "        attention_scores = self.dropout(attention_scores)\n",
        "\n",
        "        v = self.value(x) # (B, T, hs)\n",
        "        out = attention_scores @ v # (B, T, T) @ (B, T, hs) -> (B, T, hs)\n",
        "        return out\n",
        "\n",
        "class MultiHeadAttention(nn.Module):\n",
        "    def __init__(self, num_heads, head_size):\n",
        "        super().__init__()\n",
        "        self.heads = nn.ModuleList([Head(head_size) for _ in range(num_heads)])\n",
        "        self.w_o = nn.Linear(head_size * num_heads, n_embd) # (d_k * h, d_model)\n",
        "        self.dropout = nn.Dropout(dropout)\n",
        "\n",
        "    def forward(self, x):\n",
        "        out = torch.cat([h(x) for h in self.heads], dim=-1)\n",
        "        out = self.dropout(self.w_o(out))\n",
        "        return out\n",
        "\n",
        "class FeedForward(nn.Module):\n",
        "    def __init__(self, n_embd):\n",
        "        super().__init__()\n",
        "        self.net = nn.Sequential(\n",
        "            nn.Linear(n_embd, 4 * n_embd),\n",
        "            nn.ReLU(),\n",
        "            nn.Linear(4 * n_embd, n_embd),\n",
        "            nn.Dropout(dropout)\n",
        "        )\n",
        "\n",
        "    def forward(self, x):\n",
        "        return self.net(x)\n",
        "\n",
        "class Block(nn.Module):\n",
        "    def __init__(self, n_embd, n_head):\n",
        "        super().__init__()\n",
        "        head_size = n_embd // n_head\n",
        "        self.sa = MultiHeadAttention(n_head, head_size)\n",
        "        self.ffwd = FeedForward(n_embd)\n",
        "        self.ln1 = nn.LayerNorm(n_embd) # planning to make myself\n",
        "        self.ln2 = nn.LayerNorm(n_embd)\n",
        "\n",
        "    def forward(self, x):\n",
        "        x = x + self.sa(self.ln1(x))\n",
        "        x = x + self.ffwd(self.ln2(x))\n",
        "        return x\n",
        "\n",
        "class GPTLanguageModel(nn.Module):\n",
        "    def __init__(self):\n",
        "        super().__init__()\n",
        "        self.token_embedding_table = nn.Embedding(vocab_size, n_embd)\n",
        "        self.position_embedding_table = nn.Embedding(seq_len, n_embd)\n",
        "        self.blocks = nn.Sequential(*[Block(n_embd, n_head) for _ in range(n_layer)])\n",
        "        self.ln_f = nn.LayerNorm(n_embd)\n",
        "        self.lm_head = nn.Linear(n_embd, vocab_size)\n",
        "\n",
        "        self.apply(self._init_weights)\n",
        "\n",
        "    def _init_weights(self, module):\n",
        "        if isinstance(module, nn.Linear):\n",
        "            torch.nn.init.normal_(module.weight, mean=0.0, std=0.02)\n",
        "            if module.bias is not None:\n",
        "                torch.nn.init.zeros_(module.bias)\n",
        "        elif isinstance(module, nn.Embedding):\n",
        "            torch.nn.init.normal_(module.weight, mean=0.0, std=0.02)\n",
        "\n",
        "    def forward(self, idx, targets=None):\n",
        "        B, T = idx.shape\n",
        "\n",
        "        tok_emb = self.token_embedding_table(idx) # (B, T, C) == (Batchsize, seqlen, dmodel)\n",
        "        pos_emb = self.position_embedding_table(torch.arange(T, device=device))\n",
        "        x = tok_emb + pos_emb\n",
        "        x = self.blocks(x) # (B, T, C)\n",
        "        x = self.ln_f(x) # (B, T, C)\n",
        "        logits = self.lm_head(x) # (B, T, vocab_size)\n",
        "\n",
        "        if targets is None:\n",
        "            loss = None\n",
        "        else:\n",
        "            B, T, C = logits.shape\n",
        "            logits = logits.view(B*T, C)\n",
        "            targets = targets.view(B*T)\n",
        "            loss = F.cross_entropy(logits, targets)\n",
        "\n",
        "        return logits, loss\n",
        "\n",
        "    def generate(self, idx, max_new_tokens):\n",
        "        for _ in range(max_new_tokens):\n",
        "            idx_cond = idx[:, -seq_len:]\n",
        "            logits, loss = self(idx_cond)\n",
        "            logits = logits[:, -1, :]\n",
        "            probs = F.softmax(logits, dim=-1)\n",
        "            idx_next = torch.multinomial(probs, num_samples=1)\n",
        "            idx = torch.cat((idx, idx_next), dim=1)\n",
        "        return idx"
      ],
      "metadata": {
        "id": "e9naMFtu2z7v"
      },
      "execution_count": null,
      "outputs": []
    },
    {
      "cell_type": "code",
      "source": [
        "model = GPTLanguageModel()\n",
        "model = model.to(device)\n",
        "print(device)"
      ],
      "metadata": {
        "id": "9EBHwbX52-MA"
      },
      "execution_count": null,
      "outputs": []
    },
    {
      "cell_type": "code",
      "source": [
        "print(sum(p.numel() for p in model.parameters() if p.requires_grad))"
      ],
      "metadata": {
        "id": "N7tM2whF2_zn"
      },
      "execution_count": null,
      "outputs": []
    },
    {
      "cell_type": "code",
      "source": [
        "optimizer = torch.optim.AdamW(model.parameters(), lr=learning_rate)"
      ],
      "metadata": {
        "id": "W__xMqfA3A7X"
      },
      "execution_count": null,
      "outputs": []
    },
    {
      "cell_type": "code",
      "source": [
        "for iter in range(max_iters):\n",
        "\n",
        "    if iter % eval_interval == 0 or iter == max_iters - 1:\n",
        "        losses = estimate_loss()\n",
        "        print(f\"step {iter}: training loss {losses['train']:.4f}, val loss {losses['val']:.4f}\")\n",
        "\n",
        "        # Log losses to W&B\n",
        "        wandb.log({\"Training Loss\": losses['train'], \"Validation Loss\": losses['val'], \"Iteration\": iter})\n",
        "\n",
        "    xb, yb = get_batch('train')\n",
        "\n",
        "    logits, loss = model(xb, yb)\n",
        "    optimizer.zero_grad(set_to_none=True)\n",
        "    loss.backward()\n",
        "    optimizer.step()\n",
        "\n",
        "# Finish the W&B run\n",
        "wandb.finish()"
      ],
      "metadata": {
        "id": "jHhksDWb3CDS"
      },
      "execution_count": null,
      "outputs": []
    },
    {
      "cell_type": "code",
      "source": [
        "for epoch in range(EPOCHS):\n",
        "    for i, batch in enumerate(train_loader):\n",
        "        input_sequences, target_sequences = batch\n",
        "        input_sequences = torch.tensor(input_sequences, dtype=torch.long)\n",
        "        target_sequences = torch.tensor(target_sequences, dtype=torch.long)\n",
        "        input_sequences = input_sequences.to(device)\n",
        "        target_sequences = target_sequences.to(device)\n",
        "\n",
        "        with torch.no_grad():\n",
        "            for val_batch in val_dataloader:\n",
        "                val_input_sequences, val_target_sequences = val_batch\n",
        "\n",
        "                logits, loss = model(val_input_sequences, val_target_sequences)\n",
        "                val_loss = loss.item()\n",
        "\n",
        "        if i % 8 == 0:\n",
        "            print(f\"Epoch: {epoch+1}/{EPOCHS}, Batch: {i+1}/{batch_size}\")\n",
        "        logits, loss = model(input_sequences, target_sequences)\n",
        "        optimizer.zero_grad(set_to_none=True)\n",
        "        loss.backward()\n",
        "        optimizer.step()\n"
      ],
      "metadata": {
        "id": "kxBzf3pb4yp4"
      },
      "execution_count": null,
      "outputs": []
    },
    {
      "cell_type": "code",
      "source": [
        "@torch.no_grad() # Decorator that tells pytorch to not compute gradients during the operations performed in the decorated function\n",
        "def estimate_loss():\n",
        "    out={}\n",
        "    model.eval()\n",
        "    for split in ['train', 'val']: # list directly defined in a loop statement\n",
        "        losses = torch.zeros(eval_iters)\n",
        "        for k in range(eval_iters):\n",
        "            X, Y = get_batch(split)\n",
        "            logits, loss = model(X, Y)\n",
        "            losses[k] = loss.item()\n",
        "        out[split] = losses.mean()\n",
        "    model.train()\n",
        "    return out"
      ],
      "metadata": {
        "id": "MNZ55Sah5siF"
      },
      "execution_count": null,
      "outputs": []
    },
    {
      "cell_type": "code",
      "source": [
        "def load_checkpoint(model, optimizer, filename=\"gpt_checkpoint_1.53loss.pth\"):\n",
        "    checkpoint = torch.load(filename)\n",
        "    model.load_state_dict(checkpoint['model_state_dict'])\n",
        "    optimizer.load_state_dict(checkpoint['optimizer_state_dict'])\n",
        "    print(f\"Checkpoint loaded from {filename}\")\n",
        "\n",
        "load_checkpoint(model, optimizer)"
      ],
      "metadata": {
        "id": "I5vabfOw3EFK"
      },
      "execution_count": null,
      "outputs": []
    },
    {
      "cell_type": "code",
      "source": [
        "def save_checkpoint(model, optimizer, filename=\"gpt_checkpoint_1.53loss.pth\"):\n",
        "    checkpoint = {\n",
        "        'model_state_dict': model.state_dict(),\n",
        "        'optimizer_state_dict': optimizer.state_dict()\n",
        "    }\n",
        "    torch.save(checkpoint, filename)\n",
        "    print(f\"Checkpoint saved to {filename}\")\n",
        "\n",
        "save_checkpoint(model, optimizer)"
      ],
      "metadata": {
        "id": "FNUMPgPo3FNw"
      },
      "execution_count": null,
      "outputs": []
    },
    {
      "cell_type": "code",
      "source": [
        "context = torch.zeros((1,1), dtype=torch.long, device=device)\n",
        "print(decode(model.generate(context, max_new_tokens=500)[0].tolist()))"
      ],
      "metadata": {
        "id": "hLi-sScb3HVP"
      },
      "execution_count": null,
      "outputs": []
    }
  ]
}